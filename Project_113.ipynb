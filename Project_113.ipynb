{
  "nbformat": 4,
  "nbformat_minor": 0,
  "metadata": {
    "colab": {
      "provenance": [],
      "authorship_tag": "ABX9TyMkhTOuuGVtPw28/bSz8Of3",
      "include_colab_link": true
    },
    "kernelspec": {
      "name": "python3",
      "display_name": "Python 3"
    },
    "language_info": {
      "name": "python"
    }
  },
  "cells": [
    {
      "cell_type": "markdown",
      "metadata": {
        "id": "view-in-github",
        "colab_type": "text"
      },
      "source": [
        "<a href=\"https://colab.research.google.com/github/Anshul-star007/25ProjectRedo.github.io/blob/main/Project_113.ipynb\" target=\"_parent\"><img src=\"https://colab.research.google.com/assets/colab-badge.svg\" alt=\"Open In Colab\"/></a>"
      ]
    },
    {
      "cell_type": "code",
      "execution_count": 7,
      "metadata": {
        "colab": {
          "base_uri": "https://localhost:8080/"
        },
        "id": "PEFr0JQ6WRU3",
        "outputId": "d6cb1ade-14e2-40ca-a450-91f8ccee51c9"
      },
      "outputs": [
        {
          "output_type": "stream",
          "name": "stdout",
          "text": [
            "fatal: destination path 'Pro-M3-Hurricane-Damage-Dataset' already exists and is not an empty directory.\n"
          ]
        }
      ],
      "source": [
        "!git clone https://github.com/procodingclass/Pro-M3-Hurricane-Damage-Dataset"
      ]
    },
    {
      "cell_type": "code",
      "source": [
        "import tensorflow as tf\n",
        "from tensorflow.keras.preprocessing.image import ImageDataGenerator\n",
        "from tensorflow.keras.preprocessing.image import img_to_array, load_img\n",
        "\n",
        "\n",
        "# Random Data Augmentation(Rescale, Rotation, Flips, Zoom, Shifts) using ImageDataGenerator\n",
        "training_data_generator = ImageDataGenerator(\n",
        "    rescale = 1.0/255,\n",
        "    rotation_range=40,\n",
        "    width_shift_range=0.3,\n",
        "    height_shift_range=0.3,\n",
        "    zoom_range=0.3,\n",
        "    horizontal_flip=True,\n",
        "    vertical_flip=True,\n",
        "    fill_mode='nearest')\n",
        "\n",
        "\n",
        "# Image Directory\n",
        "training_image_directory = \"/content/Pro-M3-Hurricane-Damage-Dataset/train\"\n",
        "\n",
        "# Generate Preprocessed Augmented Data\n",
        "training_augmented_images = training_data_generator.flow_from_directory(\n",
        "    training_image_directory,\n",
        "    target_size=(180,180))"
      ],
      "metadata": {
        "colab": {
          "base_uri": "https://localhost:8080/"
        },
        "id": "J6fvhQTKZq1Z",
        "outputId": "1c33b83c-27a2-4f35-d15e-0d529dfee6cd"
      },
      "execution_count": 8,
      "outputs": [
        {
          "output_type": "stream",
          "name": "stdout",
          "text": [
            "Found 300 images belonging to 2 classes.\n"
          ]
        }
      ]
    },
    {
      "cell_type": "code",
      "source": [
        "# Random Data Augmentation(Rescale) using ImageDataGenerator\n",
        "validation_data_generator = ImageDataGenerator(rescale = 1.0/255)\n",
        "\n",
        "# Image Directory\n",
        "validation_image_directory = \"/content/Pro-M3-Hurricane-Damage-Dataset/validate\"\n",
        "\n",
        "# Generate Preprocessed Augmented Data\n",
        "validation_augmented_images = validation_data_generator.flow_from_directory(\n",
        "    validation_image_directory,\n",
        "    target_size=(180,180))"
      ],
      "metadata": {
        "colab": {
          "base_uri": "https://localhost:8080/"
        },
        "id": "SaHMzKiaZ7Gs",
        "outputId": "1c32189f-5078-49aa-c13e-a2d7cbb0e6cd"
      },
      "execution_count": 9,
      "outputs": [
        {
          "output_type": "stream",
          "name": "stdout",
          "text": [
            "Found 300 images belonging to 2 classes.\n"
          ]
        }
      ]
    },
    {
      "cell_type": "code",
      "source": [
        "import tensorflow as tf\n",
        "\n",
        "model = tf.keras.models.Sequential([\n",
        "    tf.keras.layers.Conv2D(64, (3,3), activation = 'relu', input_shape = (180, 180, 3)),\n",
        "    tf.keras.layers.MaxPooling2D(2,2),\n",
        "\n",
        "    tf.keras.layers.Conv2D(64, (3,3), activation = 'relu'),\n",
        "    tf.keras.layers.MaxPooling2D(2,2),\n",
        "\n",
        "\n",
        "    tf.keras.layers.Conv2D(128, (3,3), activation = 'relu'),\n",
        "    tf.keras.layers.MaxPooling2D(2,2),\n",
        "\n",
        "\n",
        "    tf.keras.layers.Conv2D(128, (3,3), activation = 'relu'),\n",
        "    tf.keras.layers.MaxPooling2D(2,2),\n",
        "\n",
        "    tf.keras.layers.Flatten(),\n",
        "    tf.keras.layers.Dropout(0.5),\n",
        "\n",
        "    tf.keras.layers.Dense(512, activation = 'relu'),\n",
        "    tf.keras.layers.Dense(2, activation = 'softmax')\n",
        "])"
      ],
      "metadata": {
        "id": "7EDgOlrrX2os"
      },
      "execution_count": 10,
      "outputs": []
    },
    {
      "cell_type": "code",
      "source": [
        "model.summary()"
      ],
      "metadata": {
        "colab": {
          "base_uri": "https://localhost:8080/"
        },
        "id": "GEoSoJzhY6LU",
        "outputId": "1492b3f0-a08a-4307-d22c-62fa9cbc0b5a"
      },
      "execution_count": 11,
      "outputs": [
        {
          "output_type": "stream",
          "name": "stdout",
          "text": [
            "Model: \"sequential_1\"\n",
            "_________________________________________________________________\n",
            " Layer (type)                Output Shape              Param #   \n",
            "=================================================================\n",
            " conv2d_4 (Conv2D)           (None, 178, 178, 64)      1792      \n",
            "                                                                 \n",
            " max_pooling2d_4 (MaxPoolin  (None, 89, 89, 64)        0         \n",
            " g2D)                                                            \n",
            "                                                                 \n",
            " conv2d_5 (Conv2D)           (None, 87, 87, 64)        36928     \n",
            "                                                                 \n",
            " max_pooling2d_5 (MaxPoolin  (None, 43, 43, 64)        0         \n",
            " g2D)                                                            \n",
            "                                                                 \n",
            " conv2d_6 (Conv2D)           (None, 41, 41, 128)       73856     \n",
            "                                                                 \n",
            " max_pooling2d_6 (MaxPoolin  (None, 20, 20, 128)       0         \n",
            " g2D)                                                            \n",
            "                                                                 \n",
            " conv2d_7 (Conv2D)           (None, 18, 18, 128)       147584    \n",
            "                                                                 \n",
            " max_pooling2d_7 (MaxPoolin  (None, 9, 9, 128)         0         \n",
            " g2D)                                                            \n",
            "                                                                 \n",
            " flatten_1 (Flatten)         (None, 10368)             0         \n",
            "                                                                 \n",
            " dropout_1 (Dropout)         (None, 10368)             0         \n",
            "                                                                 \n",
            " dense_2 (Dense)             (None, 512)               5308928   \n",
            "                                                                 \n",
            " dense_3 (Dense)             (None, 2)                 1026      \n",
            "                                                                 \n",
            "=================================================================\n",
            "Total params: 5570114 (21.25 MB)\n",
            "Trainable params: 5570114 (21.25 MB)\n",
            "Non-trainable params: 0 (0.00 Byte)\n",
            "_________________________________________________________________\n"
          ]
        }
      ]
    },
    {
      "cell_type": "code",
      "source": [
        "model.compile(loss = \"binary_crossentropy\", optimizer = 'adam', metrics = ['accuracy'])"
      ],
      "metadata": {
        "id": "BOKqQRIKYZJa"
      },
      "execution_count": 12,
      "outputs": []
    },
    {
      "cell_type": "code",
      "source": [
        "history = model.fit(training_augmented_images, epochs = 20, validation_data = validation_augmented_images, verbose = True)\n",
        "model.save('Damagedbuildings.hy')"
      ],
      "metadata": {
        "colab": {
          "base_uri": "https://localhost:8080/"
        },
        "id": "QwJAu5g4Y89d",
        "outputId": "2abec991-d0e0-4397-ce68-77a3ea9847ba"
      },
      "execution_count": 14,
      "outputs": [
        {
          "output_type": "stream",
          "name": "stdout",
          "text": [
            "Epoch 1/20\n",
            "10/10 [==============================] - 48s 5s/step - loss: 0.6477 - accuracy: 0.5433 - val_loss: 0.6442 - val_accuracy: 0.6533\n",
            "Epoch 2/20\n",
            "10/10 [==============================] - 44s 4s/step - loss: 0.6017 - accuracy: 0.7200 - val_loss: 0.6108 - val_accuracy: 0.6967\n",
            "Epoch 3/20\n",
            "10/10 [==============================] - 44s 4s/step - loss: 0.5661 - accuracy: 0.7100 - val_loss: 1.1397 - val_accuracy: 0.5467\n",
            "Epoch 4/20\n",
            "10/10 [==============================] - 44s 4s/step - loss: 0.5858 - accuracy: 0.7033 - val_loss: 0.6024 - val_accuracy: 0.7333\n",
            "Epoch 5/20\n",
            "10/10 [==============================] - 44s 4s/step - loss: 0.5303 - accuracy: 0.7467 - val_loss: 0.7411 - val_accuracy: 0.6367\n",
            "Epoch 6/20\n",
            "10/10 [==============================] - 44s 5s/step - loss: 0.4032 - accuracy: 0.8200 - val_loss: 0.9159 - val_accuracy: 0.6733\n",
            "Epoch 7/20\n",
            "10/10 [==============================] - 45s 5s/step - loss: 0.4000 - accuracy: 0.8400 - val_loss: 0.5966 - val_accuracy: 0.7633\n",
            "Epoch 8/20\n",
            "10/10 [==============================] - 44s 4s/step - loss: 0.3837 - accuracy: 0.8167 - val_loss: 0.5540 - val_accuracy: 0.7867\n",
            "Epoch 9/20\n",
            "10/10 [==============================] - 46s 5s/step - loss: 0.3789 - accuracy: 0.8233 - val_loss: 0.6115 - val_accuracy: 0.7700\n",
            "Epoch 10/20\n",
            "10/10 [==============================] - 44s 4s/step - loss: 0.2622 - accuracy: 0.9100 - val_loss: 1.5678 - val_accuracy: 0.6000\n",
            "Epoch 11/20\n",
            "10/10 [==============================] - 45s 5s/step - loss: 0.3400 - accuracy: 0.8467 - val_loss: 0.8659 - val_accuracy: 0.6367\n",
            "Epoch 12/20\n",
            "10/10 [==============================] - 44s 5s/step - loss: 0.3439 - accuracy: 0.8300 - val_loss: 0.6298 - val_accuracy: 0.7733\n",
            "Epoch 13/20\n",
            "10/10 [==============================] - 45s 4s/step - loss: 0.4561 - accuracy: 0.7800 - val_loss: 0.5573 - val_accuracy: 0.7533\n",
            "Epoch 14/20\n",
            "10/10 [==============================] - 45s 4s/step - loss: 0.4173 - accuracy: 0.8033 - val_loss: 0.7824 - val_accuracy: 0.7333\n",
            "Epoch 15/20\n",
            "10/10 [==============================] - 44s 5s/step - loss: 0.2801 - accuracy: 0.8767 - val_loss: 0.8228 - val_accuracy: 0.7500\n",
            "Epoch 16/20\n",
            "10/10 [==============================] - 45s 5s/step - loss: 0.3552 - accuracy: 0.8433 - val_loss: 0.4966 - val_accuracy: 0.7633\n",
            "Epoch 17/20\n",
            "10/10 [==============================] - 46s 5s/step - loss: 0.4256 - accuracy: 0.7800 - val_loss: 0.4586 - val_accuracy: 0.8133\n",
            "Epoch 18/20\n",
            "10/10 [==============================] - 45s 5s/step - loss: 0.3261 - accuracy: 0.8667 - val_loss: 1.0557 - val_accuracy: 0.6333\n",
            "Epoch 19/20\n",
            "10/10 [==============================] - 45s 5s/step - loss: 0.2709 - accuracy: 0.9000 - val_loss: 1.3440 - val_accuracy: 0.6567\n",
            "Epoch 20/20\n",
            "10/10 [==============================] - 44s 5s/step - loss: 0.1996 - accuracy: 0.9200 - val_loss: 1.2422 - val_accuracy: 0.6667\n"
          ]
        }
      ]
    }
  ]
}